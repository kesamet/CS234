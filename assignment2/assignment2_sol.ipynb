{
 "cells": [
  {
   "cell_type": "markdown",
   "metadata": {},
   "source": [
    "# Assignment 2 solutions"
   ]
  },
  {
   "cell_type": "code",
   "execution_count": 1,
   "metadata": {},
   "outputs": [],
   "source": [
    "import numpy as np\n",
    "\n",
    "%load_ext autoreload\n",
    "%autoreload 2"
   ]
  },
  {
   "cell_type": "code",
   "execution_count": 28,
   "metadata": {},
   "outputs": [
    {
     "name": "stdout",
     "output_type": "stream",
     "text": [
      "Test1: ok\r\n",
      "Test2: ok\r\n",
      "Test3: ok\r\n"
     ]
    }
   ],
   "source": [
    "!python q1_schedule.py"
   ]
  },
  {
   "cell_type": "code",
   "execution_count": 27,
   "metadata": {
    "scrolled": true
   },
   "outputs": [
    {
     "name": "stdout",
     "output_type": "stream",
     "text": [
      "2019-02-16 16:10:02.326564: I tensorflow/core/platform/cpu_feature_guard.cc:141] Your CPU supports instructions that this TensorFlow binary was not compiled to use: AVX2 FMA\n",
      "Evaluating...\n",
      "Average reward: -0.10 +/- 0.00\n",
      " 1001/10000 [==>...........................] - ETA: 6s - Loss: 0.2273 - Avg_R: 1.2550 - Max_R: 3.9000 - eps: 0.8020 - Grads: 0.4968 - Max_Q: 0.8861 - lr: 0.0042\n",
      "Evaluating...\n",
      "Average reward: 3.80 +/- 0.00\n",
      " 2001/10000 [=====>........................] - ETA: 5s - Loss: 0.3193 - Avg_R: 1.8600 - Max_R: 4.1000 - eps: 0.6040 - Grads: 0.6482 - Max_Q: 1.9025 - lr: 0.0034\n",
      "Evaluating...\n",
      "Average reward: 3.80 +/- 0.00\n",
      " 3001/10000 [========>.....................] - ETA: 4s - Loss: 0.3655 - Avg_R: 2.8500 - Max_R: 4.1000 - eps: 0.4060 - Grads: 0.6410 - Max_Q: 2.4606 - lr: 0.0026\n",
      "Evaluating...\n",
      "Average reward: 3.80 +/- 0.00\n",
      " 4001/10000 [===========>..................] - ETA: 3s - Loss: 0.2324 - Avg_R: 2.9400 - Max_R: 4.1000 - eps: 0.2080 - Grads: 0.7158 - Max_Q: 2.5530 - lr: 0.0018\n",
      "Evaluating...\n",
      "Average reward: 3.80 +/- 0.00\n",
      " 5001/10000 [==============>...............] - ETA: 3s - Loss: 0.0623 - Avg_R: 3.9250 - Max_R: 4.1000 - eps: 0.0100 - Grads: 0.2503 - Max_Q: 2.6762 - lr: 0.0010\n",
      "Evaluating...\n",
      "Average reward: 4.10 +/- 0.00\n",
      " 6001/10000 [=================>............] - ETA: 2s - Loss: 0.0943 - Avg_R: 4.0700 - Max_R: 4.1000 - eps: 0.0100 - Grads: 0.1407 - Max_Q: 2.8271 - lr: 0.0010\n",
      "Evaluating...\n",
      "Average reward: 4.10 +/- 0.00\n",
      " 7001/10000 [====================>.........] - ETA: 2s - Loss: 0.0132 - Avg_R: 3.9450 - Max_R: 4.1000 - eps: 0.0100 - Grads: 0.1916 - Max_Q: 2.6848 - lr: 0.0010\n",
      "Evaluating...\n",
      "Average reward: 4.10 +/- 0.00\n",
      " 8001/10000 [=======================>......] - ETA: 1s - Loss: 0.0074 - Avg_R: 4.1000 - Max_R: 4.1000 - eps: 0.0100 - Grads: 0.2273 - Max_Q: 2.8807 - lr: 0.0010\n",
      "Evaluating...\n",
      "Average reward: 3.90 +/- 0.00\n",
      " 9001/10000 [==========================>...] - ETA: 0s - Loss: 0.0007 - Avg_R: 4.1000 - Max_R: 4.1000 - eps: 0.0100 - Grads: 0.0708 - Max_Q: 2.6720 - lr: 0.0010\n",
      "Evaluating...\n",
      "Average reward: 4.10 +/- 0.00\n",
      "10001/10000 [==============================] - 6s - Loss: 0.0046 - Avg_R: 3.9500 - Max_R: 4.1000 - eps: 0.0100 - Grads: 0.2785 - Max_Q: 2.8067 - lr: 0.0010     \n",
      "- Training done.\n",
      "Evaluating...\n",
      "Average reward: 4.10 +/- 0.00\n",
      "update_title_pos\n",
      "findfont: Matching :family=sans-serif:style=normal:variant=normal:weight=normal:stretch=normal:size=10.0 to DejaVu Sans ('/home/kokmeng/anaconda3/envs/py36/lib/python3.6/site-packages/matplotlib/mpl-data/fonts/ttf/DejaVuSans.ttf') with score of 0.050000.\n",
      "update_title_pos\n"
     ]
    }
   ],
   "source": [
    "!python q2_linear.py"
   ]
  },
  {
   "cell_type": "markdown",
   "metadata": {},
   "source": [
    "- The input to the neural network consists of an 84 x 84 x 4 image produced by the preprocessing map.\n",
    "- The first hidden layer convolves 32 filters of 8 x 8 with stride 4 with the input image and applies a rectifier nonlinearity.\n",
    "- The second hidden layer convolves 64 filters of 4 x 4 with stride 2, again followed by a rectifier nonlinearity.\n",
    "- This is followed by a third convolutional layer that convolves 64 filters of 3 x 3 with stride 1 followed by a rectifier.\n",
    "- The final hidden layer is fully-connected and consists of 512 rectifier units.\n",
    "- The output layer is a fully-connected linear layer with a single output for each valid action."
   ]
  },
  {
   "cell_type": "code",
   "execution_count": 33,
   "metadata": {
    "scrolled": true
   },
   "outputs": [
    {
     "name": "stdout",
     "output_type": "stream",
     "text": [
      "2019-02-16 16:27:45.782856: I tensorflow/core/platform/cpu_feature_guard.cc:141] Your CPU supports instructions that this TensorFlow binary was not compiled to use: AVX2 FMA\n",
      "Evaluating...\n",
      "Average reward: 0.50 +/- 0.00\n",
      "Populating the memory 150/200...\n",
      "Evaluating...\n",
      "Average reward: -1.00 +/- 0.00\n",
      " 301/1000 [========>.....................] - ETA: 2s - Loss: 0.0357 - Avg_R: 0.3450 - Max_R: 2.3000 - eps: 0.4060 - Grads: 0.5285 - Max_Q: 0.1841 - lr: 0.0002\n",
      "Evaluating...\n",
      "Average reward: -0.40 +/- 0.00\n",
      " 401/1000 [===========>..................] - ETA: 3s - Loss: 0.1346 - Avg_R: 0.8400 - Max_R: 3.8000 - eps: 0.2080 - Grads: 3.4800 - Max_Q: 0.2483 - lr: 0.0001\n",
      "Evaluating...\n",
      "Average reward: 0.50 +/- 0.00\n",
      " 501/1000 [==============>...............] - ETA: 3s - Loss: 0.0743 - Avg_R: 0.5100 - Max_R: 2.2000 - eps: 0.0100 - Grads: 3.3641 - Max_Q: 0.2555 - lr: 0.0001\n",
      "Evaluating...\n",
      "Average reward: 4.00 +/- 0.00\n",
      " 601/1000 [=================>............] - ETA: 2s - Loss: 0.2540 - Avg_R: 2.9000 - Max_R: 4.0000 - eps: 0.0100 - Grads: 3.9493 - Max_Q: 0.4026 - lr: 0.0001\n",
      "Evaluating...\n",
      "Average reward: 4.00 +/- 0.00\n",
      " 701/1000 [====================>.........] - ETA: 2s - Loss: 0.0630 - Avg_R: 3.8150 - Max_R: 4.0000 - eps: 0.0100 - Grads: 2.4280 - Max_Q: 0.5398 - lr: 0.0001\n",
      "Evaluating...\n",
      "Average reward: 4.00 +/- 0.00\n",
      " 801/1000 [=======================>......] - ETA: 1s - Loss: 0.0494 - Avg_R: 3.8500 - Max_R: 4.1000 - eps: 0.0100 - Grads: 4.6627 - Max_Q: 0.6663 - lr: 0.0001\n",
      "Evaluating...\n",
      "Average reward: 4.10 +/- 0.00\n",
      " 901/1000 [==========================>...] - ETA: 0s - Loss: 0.0222 - Avg_R: 3.9950 - Max_R: 4.1000 - eps: 0.0100 - Grads: 4.4301 - Max_Q: 0.7627 - lr: 0.0001\n",
      "Evaluating...\n",
      "Average reward: 4.10 +/- 0.00\n",
      "1001/1000 [==============================] - 8s - Loss: 0.0049 - Avg_R: 4.1000 - Max_R: 4.1000 - eps: 0.0100 - Grads: 2.8174 - Max_Q: 0.8400 - lr: 0.0001     \n",
      "- Training done.\n",
      "Evaluating...\n",
      "Average reward: 4.10 +/- 0.00\n",
      "update_title_pos\n",
      "findfont: Matching :family=sans-serif:style=normal:variant=normal:weight=normal:stretch=normal:size=10.0 to DejaVu Sans ('/home/kokmeng/anaconda3/envs/py36/lib/python3.6/site-packages/matplotlib/mpl-data/fonts/ttf/DejaVuSans.ttf') with score of 0.050000.\n",
      "update_title_pos\n"
     ]
    }
   ],
   "source": [
    "!python q3_nature.py"
   ]
  },
  {
   "cell_type": "code",
   "execution_count": null,
   "metadata": {},
   "outputs": [],
   "source": []
  }
 ],
 "metadata": {
  "kernelspec": {
   "display_name": "Python 3",
   "language": "python",
   "name": "python3"
  },
  "language_info": {
   "codemirror_mode": {
    "name": "ipython",
    "version": 3
   },
   "file_extension": ".py",
   "mimetype": "text/x-python",
   "name": "python",
   "nbconvert_exporter": "python",
   "pygments_lexer": "ipython3",
   "version": "3.6.6"
  }
 },
 "nbformat": 4,
 "nbformat_minor": 2
}
